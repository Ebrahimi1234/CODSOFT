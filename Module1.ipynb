{
  "cells": [
    {
      "cell_type": "markdown",
      "metadata": {
        "id": "view-in-github",
        "colab_type": "text"
      },
      "source": [
        "<a href=\"https://colab.research.google.com/github/Ebrahimi1234/CODSOFT/blob/main/Module1.ipynb\" target=\"_parent\"><img src=\"https://colab.research.google.com/assets/colab-badge.svg\" alt=\"Open In Colab\"/></a>"
      ]
    },
    {
      "cell_type": "markdown",
      "metadata": {
        "id": "bIdN3L6CmgXV"
      },
      "source": [
        "# Python Course for Data Analysis"
      ]
    },
    {
      "cell_type": "markdown",
      "metadata": {
        "id": "LpC5ZPVmtOk0"
      },
      "source": [
        "# **Course contents - Module 1**\n",
        "1. Introduction to Python (Recap  what you already know)\n",
        "2. Introduction to Numpy\n",
        "3. Introduction to Pandas\n",
        "4. Working with Actual Datas"
      ]
    },
    {
      "cell_type": "code",
      "execution_count": null,
      "metadata": {
        "id": "eXMsudlNi4tM"
      },
      "outputs": [],
      "source": [
        "from google.colab import drive\n",
        "drive.mount('/content/drive')"
      ]
    },
    {
      "cell_type": "markdown",
      "metadata": {
        "id": "c_2ERtTGDtKt"
      },
      "source": [
        "# Introduction to Python"
      ]
    },
    {
      "cell_type": "markdown",
      "metadata": {
        "id": "OYQPV0mQHvdr"
      },
      "source": [
        "### Recap of Python Data types"
      ]
    },
    {
      "cell_type": "markdown",
      "metadata": {
        "id": "BFtT2iLVJ0PE"
      },
      "source": [
        "Q1) Could you tell me what is the answer of this?"
      ]
    },
    {
      "cell_type": "code",
      "execution_count": null,
      "metadata": {
        "id": "zB2g4bhwG-iM"
      },
      "outputs": [],
      "source": [
        "first = input(\"first number: \")\n",
        "second = input(\"second number : \")\n",
        "sum = first + second\n",
        "print(sum)"
      ]
    },
    {
      "cell_type": "code",
      "execution_count": null,
      "metadata": {
        "id": "vdvRI7laG-lF"
      },
      "outputs": [],
      "source": [
        "first = input(\"first number: \")\n",
        "second = input (\"second number : \")\n",
        "sum = int(first) + int(second)\n",
        "print(sum)"
      ]
    },
    {
      "cell_type": "markdown",
      "metadata": {
        "id": "BZ_F42v6AU9L"
      },
      "source": [
        "Q2) Can you tell me the length of this string?"
      ]
    },
    {
      "cell_type": "code",
      "execution_count": null,
      "metadata": {
        "id": "NbHbKFI-AQ1u"
      },
      "outputs": [],
      "source": [
        "a = \"Hello, World!\"\n",
        "b = \"Hello,World\"\n",
        "print(len(a))\n",
        "print(len(b))\n"
      ]
    },
    {
      "cell_type": "markdown",
      "metadata": {
        "id": "UWgh2YFGAxDJ"
      },
      "source": [
        "Q3) How to find the type of a quantity and can you identify it?"
      ]
    },
    {
      "cell_type": "code",
      "execution_count": null,
      "metadata": {
        "id": "RPLji_DjEBjb"
      },
      "outputs": [],
      "source": [
        "x = 5\n",
        "y = \"John\"\n",
        "z = 8.0\n",
        "print(type(x))\n",
        "print(type(y))\n",
        "print(type(z))"
      ]
    },
    {
      "cell_type": "markdown",
      "metadata": {
        "id": "NcuSC8SRBQhs"
      },
      "source": [
        "Q4) Can you change the data type of a number?"
      ]
    },
    {
      "cell_type": "code",
      "execution_count": null,
      "metadata": {
        "id": "OeRbKwc4BGSO"
      },
      "outputs": [],
      "source": [
        "x = str(3)    # x will be '3'\n",
        "y = int(3)    # y will be 3\n",
        "z = float(3)  # z will be 3.0\n",
        "print(x)\n",
        "print(y)\n",
        "print(z)"
      ]
    },
    {
      "cell_type": "markdown",
      "metadata": {
        "id": "NdiUOZI0IDxp"
      },
      "source": [
        "**Exercise** : Start by executing the assignment statements:\n",
        "*   a = 'ant'\n",
        "*   b = 'ball'\n",
        "*   c = 'cat'\n",
        "\n",
        ">Write Python expressions using a,b,c and operators + and * that evaluate to:\n",
        "\n",
        "\n"
      ]
    },
    {
      "cell_type": "markdown",
      "metadata": {
        "id": "bq9TvFbsI8rX"
      },
      "source": [
        "1. ant ball cat"
      ]
    },
    {
      "cell_type": "code",
      "execution_count": null,
      "metadata": {
        "id": "SQWhceGlKX3F"
      },
      "outputs": [],
      "source": [
        "a = 'ant'\n",
        "b = 'ball'\n",
        "c = 'cat'\n",
        "#print(a,b,c)\n",
        "#print(a+b+c)\n",
        "#print(a + \" \" + b +\" \" + c)\n"
      ]
    },
    {
      "cell_type": "markdown",
      "metadata": {
        "id": "Fh3Jfm5zI9Md"
      },
      "source": [
        "2. 'ant ant ant ant ant ant ant ant'"
      ]
    },
    {
      "cell_type": "code",
      "execution_count": null,
      "metadata": {
        "id": "tCqDr1fTLcTh"
      },
      "outputs": [],
      "source": [
        "print(8*(a + ' ' ))"
      ]
    },
    {
      "cell_type": "markdown",
      "metadata": {
        "id": "iDKJY954I9xh"
      },
      "source": [
        "3. ant ball ball cat cat cat"
      ]
    },
    {
      "cell_type": "markdown",
      "metadata": {
        "id": "PBV6cj1eI-CZ"
      },
      "source": [
        "4. ant ball ant ball ant ball ant ball"
      ]
    },
    {
      "cell_type": "code",
      "execution_count": null,
      "metadata": {
        "id": "wIwOTzC_EBm5"
      },
      "outputs": [],
      "source": [
        "x, y, z = \"Orange\", \"Banana\", \"Cherry\"\n",
        "print(x)\n",
        "print(y)\n",
        "print(z)"
      ]
    },
    {
      "cell_type": "code",
      "execution_count": null,
      "metadata": {
        "id": "ykSeX1q2EBqH"
      },
      "outputs": [],
      "source": [
        "x = y = z = \"Orange\"\n",
        "print(x)\n",
        "print(y)\n",
        "print(z)"
      ]
    },
    {
      "cell_type": "code",
      "execution_count": null,
      "metadata": {
        "id": "XMjWHhoDEn7O"
      },
      "outputs": [],
      "source": [
        "fruits = [\"apple\", \"banana\", \"cherry\"]\n",
        "x, y, z = fruits\n",
        "print(x)\n",
        "print(y)\n",
        "print(z)"
      ]
    },
    {
      "cell_type": "code",
      "execution_count": null,
      "metadata": {
        "id": "uBCUpPa9En-_"
      },
      "outputs": [],
      "source": [
        "x = 5\n",
        "y = \"John\"\n",
        "print(x, y)"
      ]
    },
    {
      "cell_type": "markdown",
      "metadata": {
        "id": "kdO42gFfAjyN"
      },
      "source": [
        "## Simple user input Python Programme examples"
      ]
    },
    {
      "cell_type": "markdown",
      "metadata": {
        "id": "FaeX74Mf8j5t"
      },
      "source": [
        "####Example 1 : Find your age, if you give your birth year"
      ]
    },
    {
      "cell_type": "code",
      "execution_count": null,
      "metadata": {
        "id": "CuMremh9EAwQ"
      },
      "outputs": [],
      "source": [
        "Birth_year = input(\"Enter your birth year: \") #Input  gives you a string\n",
        "Age = 2023 - int(Birth_year)\n",
        "print(\"Your Age is\" , Age)"
      ]
    },
    {
      "cell_type": "markdown",
      "metadata": {
        "id": "vEB7wyOFsQgq"
      },
      "source": [
        "#### Example 2 : Getting  information of a peroson"
      ]
    },
    {
      "cell_type": "code",
      "execution_count": null,
      "metadata": {
        "id": "QK9Mil-5An5P"
      },
      "outputs": [],
      "source": [
        "Name = input (\"Hello, What is your name? : \")\n",
        "Age = input (\"What is your age? : \")\n",
        "Job = input (\" What are you doing: \")\n",
        "if Job.lower() == \"Student\":\n",
        "  input(\"What are you Studying :\")\n",
        "  input(\"Which year are you in :\")\n",
        "  print(\"Thank you for your information\")\n",
        "elif Job.upper() == \"STUDENT\":\n",
        "  input(\"What are you Studying : \")\n",
        "  input(\"Which year are you in :\")\n",
        "  print(\"Thank you for your information\")\n",
        "else :\n",
        "  input(\"Are you satisfied with your Job? :\")\n",
        "  input(\"How much is your salary per month? :\")\n",
        "  print(\"Thank you for your information\")"
      ]
    },
    {
      "cell_type": "markdown",
      "metadata": {
        "id": "I34mQeFdpEQx"
      },
      "source": [
        "#### Example 3 : Number Guessing Game"
      ]
    },
    {
      "cell_type": "code",
      "execution_count": null,
      "metadata": {
        "id": "qGUHt6GapBmq"
      },
      "outputs": [],
      "source": [
        "import random\n",
        "from time import sleep\n",
        "print(\"Hi,let's play a math game!\")\n",
        "sleep(3)\n",
        "print(\"Game A: A little hard work for you\")\n",
        "print(\"Game B: Play with your luck\")\n",
        "sleep(2)\n",
        "choice =input(\"Hi Alice, which game you want to play today? A or B:\")\n",
        "if choice == \"A\":\n",
        "    number=print(\"guess a number between 0 and 9\")\n",
        "    sleep(4)\n",
        "    process1=print(\"Multiply the guess number with 2 \")\n",
        "    sleep(4)\n",
        "    process2=print(\"Add the number with 2\")\n",
        "    sleep(4)\n",
        "    process3=print(\"Multiply the number with 5\")\n",
        "    sleep(4)\n",
        "    process4=print(\"Add the number with 5\")\n",
        "    sleep(4)\n",
        "    process5=print(\"Multiply the number with 10\")\n",
        "    sleep(4)\n",
        "    N=int(input(\"Enter the number:\"))\n",
        "    s = int(N/100)\n",
        "    print(\"The number you guessed is\" )\n",
        "    print(s-1)\n",
        "    sleep(2)\n",
        "    print(\"If this is wrong, your math is wrong\")\n",
        "else:\n",
        "    number = random.randrange(0,10)\n",
        "    response=int(input(\"Please input a number between 0 and 10:\"))\n",
        "    if response !=number:\n",
        "        print(\"try again. You have only 2 attempts left\")\n",
        "        sleep(2)\n",
        "        response1=int(input(\"Please input a number between 0 and 10:\"))\n",
        "        if response1 != number:\n",
        "            print(\"Bad Luck. Try again. You have only 1 attempt left\")\n",
        "            sleep(2)\n",
        "            response2 = int(input(\"Please input a number between 0 and 10:\"))\n",
        "            if response2 != number:\n",
        "                print(\"Sorry. You lost the game. Better luck next time\")\n",
        "            else:\n",
        "                print(\"Hi, Finally you won the game. Congrats\")\n",
        "        else:\n",
        "            print(\"Hi, you won the game\")\n",
        "    else:\n",
        "        print(\"Hi, you won the game\")\n",
        "    sleep(2)\n",
        "    print(\"The correct number is\")\n",
        "    print(number)\n",
        "\n",
        "\n",
        "\n",
        "\n",
        "\n",
        "\n",
        "\n"
      ]
    },
    {
      "cell_type": "markdown",
      "metadata": {
        "id": "rt3YqKW2uaca"
      },
      "source": [
        "[Link for Python tutorial and simple exercises to practice](https://www.w3schools.com/python/default.asp)"
      ]
    },
    {
      "cell_type": "markdown",
      "metadata": {
        "id": "5nwGmK2M_8sA"
      },
      "source": [
        "[Youtube link for Data Analysis](https://www.youtube.com/watch?v=r-uOLxNrNk8)"
      ]
    },
    {
      "cell_type": "markdown",
      "metadata": {
        "id": "WyHZjN_NASQR"
      },
      "source": [
        "[Youtube link for Numpy tutorial for beginners](https://www.youtube.com/watch?v=QUT1VHiLmmI)"
      ]
    },
    {
      "cell_type": "markdown",
      "metadata": {
        "id": "oWIHJjiTmVMQ"
      },
      "source": [
        "# Introduction to Numpy"
      ]
    },
    {
      "cell_type": "markdown",
      "source": [
        "NumPy is a library for the Python programming language, adding support for large, multi-dimensional arrays and matrices\n",
        "along with a large collection of high-level mathematical functions to operate on these arrays (Wikipedia)"
      ],
      "metadata": {
        "id": "6z6GRp3GSeDY"
      }
    },
    {
      "cell_type": "code",
      "execution_count": null,
      "metadata": {
        "id": "jD3cdKQZm04d"
      },
      "outputs": [],
      "source": [
        "pip install numpy"
      ]
    },
    {
      "cell_type": "code",
      "execution_count": null,
      "metadata": {
        "id": "jDqxONIiopok"
      },
      "outputs": [],
      "source": [
        "import numpy as np"
      ]
    },
    {
      "cell_type": "markdown",
      "metadata": {
        "id": "7IBs5eh7ImZ3"
      },
      "source": [
        "### Basic Numpy array"
      ]
    },
    {
      "cell_type": "code",
      "execution_count": null,
      "metadata": {
        "id": "VEaCd50_Ikb3"
      },
      "outputs": [],
      "source": [
        "a = np.array([1,2,3,4])\n",
        "a"
      ]
    },
    {
      "cell_type": "code",
      "execution_count": null,
      "metadata": {
        "id": "mZHSaMLfJjsu"
      },
      "outputs": [],
      "source": [
        "b = np.array([0, .5, 1, 1.5, 2])\n",
        "b"
      ]
    },
    {
      "cell_type": "code",
      "execution_count": null,
      "metadata": {
        "id": "Ar9Zv4t2Jky8"
      },
      "outputs": [],
      "source": [
        "a[0],a[1]"
      ]
    },
    {
      "cell_type": "code",
      "execution_count": null,
      "metadata": {
        "id": "Qq94uf5oJlON"
      },
      "outputs": [],
      "source": [
        "a[0:]"
      ]
    },
    {
      "cell_type": "code",
      "execution_count": null,
      "metadata": {
        "id": "0wxzmpqrJlh4"
      },
      "outputs": [],
      "source": [
        "a[1:3]"
      ]
    },
    {
      "cell_type": "code",
      "execution_count": null,
      "metadata": {
        "colab": {
          "background_save": true
        },
        "id": "LuFIN9gQLB5V"
      },
      "outputs": [],
      "source": [
        "a[1:-1]"
      ]
    },
    {
      "cell_type": "code",
      "execution_count": null,
      "metadata": {
        "id": "plpmhlFbLCkC"
      },
      "outputs": [],
      "source": [
        "a[::2]"
      ]
    },
    {
      "cell_type": "code",
      "execution_count": null,
      "metadata": {
        "id": "74v3zeDiLD0h"
      },
      "outputs": [],
      "source": [
        "b[0],b[2],b[-1]"
      ]
    },
    {
      "cell_type": "code",
      "execution_count": null,
      "metadata": {
        "id": "BFpbfE12LESt"
      },
      "outputs": [],
      "source": [
        "b[[0,2,-1]]"
      ]
    },
    {
      "cell_type": "markdown",
      "metadata": {
        "id": "qOQfeVVUCdBN"
      },
      "source": [
        "### Size of objects in Memory"
      ]
    },
    {
      "cell_type": "markdown",
      "metadata": {
        "id": "dFIoB1bWAkRo"
      },
      "source": [
        "Numpy size are smaller. It stores the numbers with less number of bytes. But in python an integer is stored using > 24 bytes [8 bits give one byte]."
      ]
    },
    {
      "cell_type": "markdown",
      "metadata": {
        "id": "A_NdvJriqNNv"
      },
      "source": [
        "#### Memory consumption in Python"
      ]
    },
    {
      "cell_type": "code",
      "execution_count": null,
      "metadata": {
        "id": "yDJj1Y40qjnb"
      },
      "outputs": [],
      "source": [
        "import sys\n",
        "sys.getsizeof(1)\n"
      ]
    },
    {
      "cell_type": "code",
      "execution_count": null,
      "metadata": {
        "id": "tChMJoWmyOin"
      },
      "outputs": [],
      "source": [
        "sys.getsizeof(50.2)"
      ]
    },
    {
      "cell_type": "markdown",
      "metadata": {
        "id": "X0X0bzkI0K2X"
      },
      "source": [
        "#### Memory consumption of a list is even higher"
      ]
    },
    {
      "cell_type": "code",
      "execution_count": null,
      "metadata": {
        "id": "wFtE24qG0WjP"
      },
      "outputs": [],
      "source": [
        "sys.getsizeof([1])"
      ]
    },
    {
      "cell_type": "code",
      "execution_count": null,
      "metadata": {
        "id": "MsJI4aY20wFL"
      },
      "outputs": [],
      "source": [
        "np.array([1]).nbytes"
      ]
    },
    {
      "cell_type": "code",
      "execution_count": null,
      "metadata": {
        "id": "qOfz_Yezo7q4"
      },
      "outputs": [],
      "source": [
        "from sys import getsizeof as size\n",
        "lst = [10, 20, 30]\n",
        "list_size = size(lst)\n",
        "elements_size = len(lst) * size(lst[0]) # 10, 20, 30 Size of each integer in a list is 28 bytes\n",
        "list_size_total = list_size + elements_size\n",
        "print(\"Size of list without elements: \", list_size)\n",
        "print(\"Size of all the elements: \", elements_size)\n",
        "print(\"Total list size, including elements: \", list_size_total)"
      ]
    },
    {
      "cell_type": "code",
      "execution_count": null,
      "metadata": {
        "id": "MhInfEihro8-"
      },
      "outputs": [],
      "source": [
        "lst = [10, 20, 30,100]\n",
        "size(lst)"
      ]
    },
    {
      "cell_type": "markdown",
      "metadata": {
        "id": "R7u2Mp4ntTaK"
      },
      "source": [
        "Lets check how the memory usage changes, if we add another integer element to the list."
      ]
    },
    {
      "cell_type": "code",
      "execution_count": null,
      "metadata": {
        "id": "ZOYO3LzrpdUm"
      },
      "outputs": [],
      "source": [
        "lst = [10, 20, 30,40]\n",
        "list_size = size(lst)\n",
        "elements_size = len(lst) * size(lst[0]) # 10, 20, 30 Size of each integer in a list is 28 bytes\n",
        "list_size_total = list_size + elements_size\n",
        "print(\"Size of list without elements: \", list_size)\n",
        "print(\"Size of all the elements: \", elements_size)\n",
        "print(\"Total list size, including elements: \", list_size_total)\n",
        "lst = []\n",
        "print(\"Emtpy list size: \", size(lst))"
      ]
    },
    {
      "cell_type": "markdown",
      "metadata": {
        "id": "nbY25LcNqbAh"
      },
      "source": [
        "#### Memory consumption of a Numpy array"
      ]
    },
    {
      "cell_type": "code",
      "execution_count": null,
      "metadata": {
        "id": "wG-1yupJBN5p"
      },
      "outputs": [],
      "source": [
        "np.dtype(int).itemsize"
      ]
    },
    {
      "cell_type": "markdown",
      "metadata": {
        "id": "K9AoLA7lyvZ0"
      },
      "source": [
        "8 bits give one byte.Numpy stores an integer in 8 bytes. That means it uses int64 bits. In  computers numbers and letters are stored using 64bits and sometimes in older version using 32 bits"
      ]
    },
    {
      "cell_type": "code",
      "execution_count": null,
      "metadata": {
        "id": "GR-kHidtyGmq"
      },
      "outputs": [],
      "source": [
        "np.dtype(float).itemsize"
      ]
    },
    {
      "cell_type": "code",
      "execution_count": null,
      "metadata": {
        "id": "oDNTs5UAtmYv"
      },
      "outputs": [],
      "source": [
        "a = np.array([10, 20, 30])\n",
        "print(size(a))"
      ]
    },
    {
      "cell_type": "code",
      "execution_count": null,
      "metadata": {
        "id": "H5sLUtAStzG2"
      },
      "outputs": [],
      "source": [
        "e = np.array([])\n",
        "print(size(e))"
      ]
    },
    {
      "cell_type": "markdown",
      "metadata": {
        "id": "awdJBf6WuOWU"
      },
      "source": [
        "Numpy automatically chooses a fixed integer size. But we can determine the size of the integers, when we define an array and it can reduce the memory"
      ]
    },
    {
      "cell_type": "code",
      "execution_count": null,
      "metadata": {
        "id": "awUioh1MuTkZ"
      },
      "outputs": [],
      "source": [
        "a = np.array([10, 12, 14], np.int8)\n",
        "print(size(a))\n",
        "a = np.array([10, 12, 14], np.int16)\n",
        "print(size(a))\n",
        "a = np.array([10, 12, 14], np.int32)\n",
        "print(size(a))\n",
        "a = np.array([10, 12, 14], np.int64)\n",
        "print(size(a))"
      ]
    },
    {
      "cell_type": "markdown",
      "metadata": {
        "id": "4XzVZh1aCkLm"
      },
      "source": [
        "### Performance is important"
      ]
    },
    {
      "cell_type": "code",
      "execution_count": null,
      "metadata": {
        "id": "zeMpolZYDgHw"
      },
      "outputs": [],
      "source": [
        "l = list(range(100000))\n",
        "#print(l)"
      ]
    },
    {
      "cell_type": "code",
      "execution_count": null,
      "metadata": {
        "id": "kDrKQkqGDgKX"
      },
      "outputs": [],
      "source": [
        "a = np.arange(100000)\n",
        "#print(a)"
      ]
    },
    {
      "cell_type": "code",
      "execution_count": null,
      "metadata": {
        "id": "Ht5VV55wCnsX"
      },
      "outputs": [],
      "source": [
        "%time np.sum(a ** 2)"
      ]
    },
    {
      "cell_type": "code",
      "execution_count": null,
      "metadata": {
        "id": "N9QS86tJCnu9"
      },
      "outputs": [],
      "source": [
        "\n",
        "%time sum ([x ** 2 for x in l])"
      ]
    },
    {
      "cell_type": "markdown",
      "metadata": {
        "id": "IAk9nAuIx7Pr"
      },
      "source": [
        "Another advantage"
      ]
    },
    {
      "cell_type": "code",
      "execution_count": null,
      "metadata": {
        "id": "fhb1VLLlxKyp"
      },
      "outputs": [],
      "source": [
        "a = [1,2,3]\n",
        "b = [3,4,5]\n",
        "a*b"
      ]
    },
    {
      "cell_type": "code",
      "execution_count": null,
      "metadata": {
        "id": "8Kpt-fq7xhu_"
      },
      "outputs": [],
      "source": [
        "a = np.array([1,2,3])\n",
        "b = np.array([3,4,5])\n",
        "a*b"
      ]
    },
    {
      "cell_type": "code",
      "execution_count": null,
      "metadata": {
        "id": "oPIv33V5xU_B"
      },
      "outputs": [],
      "source": [
        "a = np.array(a)\n",
        "b = np.array(b)\n",
        "a*b"
      ]
    },
    {
      "cell_type": "markdown",
      "metadata": {
        "id": "a_0fiWO0d2PB"
      },
      "source": [
        "###arange"
      ]
    },
    {
      "cell_type": "markdown",
      "source": [
        "Creation of arrays with evently spaced values"
      ],
      "metadata": {
        "id": "KhpPiVsnVXbh"
      }
    },
    {
      "cell_type": "code",
      "execution_count": null,
      "metadata": {
        "id": "jjqIz9oSd7BT"
      },
      "outputs": [],
      "source": [
        "a = np.arange(1, 8) # upperlimit is not included\n",
        "print(a)\n"
      ]
    },
    {
      "cell_type": "code",
      "execution_count": null,
      "metadata": {
        "id": "uPmP15nUd7Uy"
      },
      "outputs": [],
      "source": [
        "x = range(1, 8)\n",
        "print(x) # x is an iterator\n",
        "print(list(x))"
      ]
    },
    {
      "cell_type": "code",
      "execution_count": null,
      "metadata": {
        "id": "mC0ftUD9d7vT"
      },
      "outputs": [],
      "source": [
        "x = np.arange(12.4)\n",
        "print(x)\n",
        "x = np.arange(0.3, 12.4, 0.8)  # arange(start, stop, step,dtype = None)\n",
        "print(x)"
      ]
    },
    {
      "cell_type": "markdown",
      "metadata": {
        "id": "aeOid6EvD_um"
      },
      "source": [
        "### linspace"
      ]
    },
    {
      "cell_type": "code",
      "execution_count": null,
      "metadata": {
        "id": "ExMwSharczQl"
      },
      "outputs": [],
      "source": [
        "np.linspace(1, 5)   # By defualt the step size is 50, end point is included"
      ]
    },
    {
      "cell_type": "code",
      "execution_count": null,
      "metadata": {
        "id": "t6l7RegBdFFo"
      },
      "outputs": [],
      "source": [
        "# 5 values between 1 and 10:\n",
        "np.linspace(1, 10, 5)"
      ]
    },
    {
      "cell_type": "code",
      "execution_count": null,
      "metadata": {
        "id": "PnmLtcrcdJlm"
      },
      "outputs": [],
      "source": [
        "# excluding the endpoint:\n",
        "np.linspace(1, 10, 5, endpoint=False)"
      ]
    },
    {
      "cell_type": "code",
      "source": [
        "np.linspace(1, 10, 5, False)"
      ],
      "metadata": {
        "id": "3wRMgbh6cuOI"
      },
      "execution_count": null,
      "outputs": []
    },
    {
      "cell_type": "code",
      "execution_count": null,
      "metadata": {
        "id": "aqCHWcIkEBw6"
      },
      "outputs": [],
      "source": [
        "np.linspace(0,1,5)"
      ]
    },
    {
      "cell_type": "code",
      "execution_count": null,
      "metadata": {
        "id": "1b-qD7C4EBzS"
      },
      "outputs": [],
      "source": [
        "np.linspace(0,1,18)"
      ]
    },
    {
      "cell_type": "code",
      "execution_count": null,
      "metadata": {
        "id": "sLf2mjO-ELp0"
      },
      "outputs": [],
      "source": [
        "np.linspace(0,10,8)"
      ]
    },
    {
      "cell_type": "markdown",
      "metadata": {
        "id": "H1pzMxhDEbwl"
      },
      "source": [
        "### Reshape"
      ]
    },
    {
      "cell_type": "markdown",
      "source": [
        "We can reshape the one dimentional array into higher dimensions"
      ],
      "metadata": {
        "id": "m6TYE0kjc-ow"
      }
    },
    {
      "cell_type": "code",
      "source": [
        "np.arange(10)"
      ],
      "metadata": {
        "id": "bR8_TJgtdLsr"
      },
      "execution_count": null,
      "outputs": []
    },
    {
      "cell_type": "code",
      "execution_count": null,
      "metadata": {
        "id": "RVYuAdQVEdog"
      },
      "outputs": [],
      "source": [
        "np.arange(10).reshape(2,5)"
      ]
    },
    {
      "cell_type": "code",
      "execution_count": null,
      "metadata": {
        "id": "5m2kRGiKEdrM"
      },
      "outputs": [],
      "source": [
        "np.arange(100).reshape(2,10,5)"
      ]
    },
    {
      "cell_type": "markdown",
      "metadata": {
        "id": "hoKmr20bhrGZ"
      },
      "source": [
        "### Getting info of an array"
      ]
    },
    {
      "cell_type": "code",
      "execution_count": null,
      "metadata": {
        "id": "fpZusMjGm1wU"
      },
      "outputs": [],
      "source": [
        "import numpy as np\n",
        "a = np.array([1,2,3], dtype ='int16')  # 1D array if you specify the datatype, then it store the array using less bytes. Then size should be small\n",
        "print(a)\n",
        "print(a.shape) # Get shape\n",
        "print(a.ndim)  # Get dimension\n",
        "print(a.dtype) # Get data type ( dtype)\n",
        "print(a.itemsize) # Get size (size of each element)\n",
        "print(a.size) # No: of elements\n",
        "print(a.size * a.itemsize) # Total size\n",
        "print(a.nbytes) # Another way of finding the total size = number of bytes"
      ]
    },
    {
      "cell_type": "code",
      "execution_count": null,
      "metadata": {
        "id": "MlKSd9_-zq15"
      },
      "outputs": [],
      "source": [
        "a[[0,2]] # Selecting multiple elements in the array. Here I chose first and third element."
      ]
    },
    {
      "cell_type": "code",
      "execution_count": null,
      "metadata": {
        "id": "EG_12kCLm1p9"
      },
      "outputs": [],
      "source": [
        "b = np.array([\n",
        "              [1.0,2.0,3.0],\n",
        "              [4.0,5.0,6.0]\n",
        "             ])   #2D array\n",
        "print(b)\n",
        "print(b.shape)\n",
        "print(b.ndim)\n",
        "print(b.dtype)\n",
        "print(b.itemsize)"
      ]
    },
    {
      "cell_type": "code",
      "execution_count": null,
      "metadata": {
        "id": "S7m8iPmem1mD"
      },
      "outputs": [],
      "source": [
        "c = np.array([\n",
        "             [1.0,2.0,3.0],\n",
        "             [4.0,5.0,6.0],\n",
        "             [7.0,8.0,9.0]\n",
        "             ]) #3D array\n",
        "print(c)"
      ]
    },
    {
      "cell_type": "markdown",
      "metadata": {
        "id": "t5yxCsvasu0g"
      },
      "source": [
        "### Accessing/changing specific elements, rows, columns etc"
      ]
    },
    {
      "cell_type": "code",
      "execution_count": null,
      "metadata": {
        "id": "Ksx-bw15qEQ_"
      },
      "outputs": [],
      "source": [
        "S = np.array([2, 4, 6, 8, 10, 12, 14, 16, 18, 20])\n",
        "print(S[2:5])\n",
        "print(S[:4])\n",
        "print(S[6:])\n",
        "print(S[:])"
      ]
    },
    {
      "cell_type": "code",
      "execution_count": null,
      "metadata": {
        "id": "toxnOnhIm1PT"
      },
      "outputs": [],
      "source": [
        " a = np.array([\n",
        "    [1,2,3,4,5],\n",
        "    [6,7,8,9,10]\n",
        "    ])\n",
        " print(a)\n",
        " print(a.shape)"
      ]
    },
    {
      "cell_type": "code",
      "execution_count": null,
      "metadata": {
        "id": "UkVzeyVltUZ1"
      },
      "outputs": [],
      "source": [
        "# Get a specific elemnet [row,coloumn], Python index number starts with 0\n",
        "a[1,2]"
      ]
    },
    {
      "cell_type": "code",
      "execution_count": null,
      "metadata": {
        "id": "6cfTk4h-tUNb"
      },
      "outputs": [],
      "source": [
        "a[1,-1]"
      ]
    },
    {
      "cell_type": "code",
      "execution_count": null,
      "metadata": {
        "id": "hEqTXiuDuANY"
      },
      "outputs": [],
      "source": [
        "# Get a specific row\n",
        "a[0, :]"
      ]
    },
    {
      "cell_type": "code",
      "execution_count": null,
      "metadata": {
        "id": "gEuiqApNuAKf"
      },
      "outputs": [],
      "source": [
        "# Get a specific column\n",
        "a[:, 1]"
      ]
    },
    {
      "cell_type": "code",
      "execution_count": null,
      "metadata": {
        "id": "sUTmqN_8uAGQ"
      },
      "outputs": [],
      "source": [
        "# [startindex:endindex:stepsize]\n",
        "a[0:,1:5:2] # Here row is from 0 to final, column is from 1 to 4 in steps of 2"
      ]
    },
    {
      "cell_type": "code",
      "execution_count": null,
      "metadata": {
        "id": "Cz0VGrEfrNTj"
      },
      "outputs": [],
      "source": [
        "A = np.array([\n",
        "[18, 26, 35, 40, 52],\n",
        "[10, 12, 13, 14, 15],\n",
        "[31, 32, 33, 34, 35],\n",
        "[41, 42, 43, 44, 45],\n",
        "[51, 52, 53, 54, 55]])\n",
        "print(A.shape)\n",
        "print(A[:3, 2:])  # Slice the matrix from first row until 2 nd row and column from 2nd to final"
      ]
    },
    {
      "cell_type": "code",
      "execution_count": null,
      "metadata": {
        "id": "bvXlkDDVsGQH"
      },
      "outputs": [],
      "source": [
        "print(A[3:, :])"
      ]
    },
    {
      "cell_type": "code",
      "execution_count": null,
      "metadata": {
        "id": "yhQ0eq36sNa4"
      },
      "outputs": [],
      "source": [
        "print(A[:, 4:])"
      ]
    },
    {
      "cell_type": "code",
      "execution_count": null,
      "metadata": {
        "id": "5c_hwxgYs5TZ"
      },
      "outputs": [],
      "source": [
        "X = np.arange(28).reshape(4, 7)\n",
        "print(X)"
      ]
    },
    {
      "cell_type": "code",
      "execution_count": null,
      "metadata": {
        "id": "EaHy8q_KtdMf"
      },
      "outputs": [],
      "source": [
        "print(X[::2, ::3]) # X(start row index : End row index : step row index, start column index : End column index : step column index )"
      ]
    },
    {
      "cell_type": "code",
      "execution_count": null,
      "metadata": {
        "id": "hBI7AblJtdq7"
      },
      "outputs": [],
      "source": [
        "print(X[::, ::3])"
      ]
    },
    {
      "cell_type": "code",
      "execution_count": null,
      "metadata": {
        "id": "ijlARWUftFcr"
      },
      "outputs": [],
      "source": [
        "a = np.array([\n",
        "    [1,2,3,4,5],\n",
        "    [6,7,8,9,10]\n",
        "    ])\n",
        "print(a)"
      ]
    },
    {
      "cell_type": "code",
      "execution_count": null,
      "metadata": {
        "id": "pJX5rvJZt_8L"
      },
      "outputs": [],
      "source": [
        "#to change element\n",
        "a[1,2] = 10\n",
        "print(a)"
      ]
    },
    {
      "cell_type": "code",
      "execution_count": null,
      "metadata": {
        "id": "OHE_wG_b2mpD"
      },
      "outputs": [],
      "source": [
        "a[:,4] = 0 # change the element in a particular column\n",
        "print(a)"
      ]
    },
    {
      "cell_type": "code",
      "execution_count": null,
      "metadata": {
        "id": "G_EyB40m3afZ"
      },
      "outputs": [],
      "source": [
        "c = np.array([\n",
        "    [[1,2,3],[4,5,6]],\n",
        "     [[7,8,9],[10,11,12]]\n",
        "    ])\n",
        "print(c)"
      ]
    },
    {
      "cell_type": "code",
      "execution_count": null,
      "metadata": {
        "id": "rUBe4rMV3ai3"
      },
      "outputs": [],
      "source": [
        "#c[0,1,2]\n",
        "c.shape"
      ]
    },
    {
      "cell_type": "markdown",
      "metadata": {
        "id": "tjsqwsyMARHj"
      },
      "source": [
        "### Concatenate arrays"
      ]
    },
    {
      "cell_type": "code",
      "execution_count": null,
      "metadata": {
        "id": "N3gFfYuQET9l"
      },
      "outputs": [],
      "source": [
        "x = np.array([11,22])\n",
        "y = np.array([18,7,6])\n",
        "z = np.array([1,3,5])\n",
        "c = np.concatenate((x,y,z))\n",
        "print(c)"
      ]
    },
    {
      "cell_type": "code",
      "execution_count": null,
      "metadata": {
        "id": "RzfADgAVEULM"
      },
      "outputs": [],
      "source": [
        "x = np.array(range(24))\n",
        "x = x.reshape((4,3,2)) #split into 4 subsection, each section 3 rows and then 2 column\n",
        "y = np.array(range(100,124))\n",
        "y = y.reshape((4,3,2))\n",
        "z = np.concatenate((x,y))\n",
        "print(z)"
      ]
    },
    {
      "cell_type": "markdown",
      "metadata": {
        "id": "pc90bDTS4QYr"
      },
      "source": [
        "###Initializing the matrices"
      ]
    },
    {
      "cell_type": "code",
      "execution_count": null,
      "metadata": {
        "id": "Xhb3c56O4TgB"
      },
      "outputs": [],
      "source": [
        "np.zeros(5)  # Zeros initializing\n",
        "np.zeros((2,3))\n",
        "np.zeros((2,3,4))\n",
        "np.ones((4,2,2)) # Ones initializing"
      ]
    },
    {
      "cell_type": "code",
      "execution_count": null,
      "metadata": {
        "id": "D2_O2Nde4FXK"
      },
      "outputs": [],
      "source": [
        "# Any other number initializing\n",
        "np.full((2,2),99)"
      ]
    },
    {
      "cell_type": "code",
      "execution_count": null,
      "metadata": {
        "id": "LlmSS7uABw8Z"
      },
      "outputs": [],
      "source": [
        "np.identity(4)  # create an identity matrix with dimension 4"
      ]
    },
    {
      "cell_type": "markdown",
      "metadata": {
        "id": "oIwCFlrm6pos"
      },
      "source": [
        "### Lets do some math"
      ]
    },
    {
      "cell_type": "code",
      "execution_count": null,
      "metadata": {
        "id": "g0dzVzme5UXa"
      },
      "outputs": [],
      "source": [
        " a = np.array([1,2,3,4])\n"
      ]
    },
    {
      "cell_type": "code",
      "execution_count": null,
      "metadata": {
        "id": "z8sFKyxc5UaL"
      },
      "outputs": [],
      "source": [
        "a+2"
      ]
    },
    {
      "cell_type": "code",
      "execution_count": null,
      "metadata": {
        "id": "lL5BL1Vp5Ucs"
      },
      "outputs": [],
      "source": [
        "a*2"
      ]
    },
    {
      "cell_type": "code",
      "execution_count": null,
      "metadata": {
        "id": "XAg1e4xL7GKi"
      },
      "outputs": [],
      "source": [
        "a/2  # Similarly you can add any numpy arrays similar to do mathematics"
      ]
    },
    {
      "cell_type": "code",
      "execution_count": null,
      "metadata": {
        "id": "vGVMl91D7GM5"
      },
      "outputs": [],
      "source": [
        "np.sin(a) # You can take sine values of each element"
      ]
    },
    {
      "cell_type": "markdown",
      "metadata": {
        "id": "QsmCnduh7t--"
      },
      "source": [
        "###Statistics"
      ]
    },
    {
      "cell_type": "code",
      "execution_count": null,
      "metadata": {
        "id": "Or0SbesT7E1E"
      },
      "outputs": [],
      "source": [
        "stats  = np.array([[1,2,3],[4,5,6]])\n",
        "stats"
      ]
    },
    {
      "cell_type": "code",
      "execution_count": null,
      "metadata": {
        "id": "XfqzTJO47E3o"
      },
      "outputs": [],
      "source": [
        "np.min(stats) #minimum value of an array\n",
        "np.max(stats) #maximum value of an array"
      ]
    },
    {
      "cell_type": "code",
      "execution_count": null,
      "metadata": {
        "id": "emMP3kvC9Ead"
      },
      "outputs": [],
      "source": [
        "np.min(stats, axis = 1) #  axis = 1 gives the elements in the column, if you put axis =0 it will give all elements in the first row\n",
        "np.max(stats, axis = 1)"
      ]
    },
    {
      "cell_type": "code",
      "execution_count": null,
      "metadata": {
        "id": "6X4Aj3t_9txi"
      },
      "outputs": [],
      "source": [
        "np.sum(stats) # add all elements"
      ]
    },
    {
      "cell_type": "code",
      "execution_count": null,
      "metadata": {
        "id": "6jJ9HN7P9ys6"
      },
      "outputs": [],
      "source": [
        "np.sum(stats, axis = 1) # Give the sum of the elements in a row\n",
        "np.sum(stats, axis = 0) # Give the sum of the elements in a column"
      ]
    },
    {
      "cell_type": "markdown",
      "metadata": {
        "id": "4d4DDgymicpP"
      },
      "source": [
        "###Conditional operations (Boolean Indexing)"
      ]
    },
    {
      "cell_type": "code",
      "execution_count": null,
      "metadata": {
        "id": "UFSqhEp3StZv"
      },
      "outputs": [],
      "source": [
        "# Creating a boolean array\n",
        "np.full((3,3), True, dtype=bool)"
      ]
    },
    {
      "cell_type": "code",
      "execution_count": null,
      "metadata": {
        "id": "zVR40B12S_fm"
      },
      "outputs": [],
      "source": [
        "np.full((3,3), False, dtype=bool)"
      ]
    },
    {
      "cell_type": "code",
      "execution_count": null,
      "metadata": {
        "id": "Clw6loPiTKEA"
      },
      "outputs": [],
      "source": [
        "np.full((9), True, dtype=bool).reshape(3,3)"
      ]
    },
    {
      "cell_type": "code",
      "execution_count": null,
      "metadata": {
        "id": "lb0NU_zlIBC0"
      },
      "outputs": [],
      "source": [
        "A = np.array([4, 7, 3, 4, 2, 8])\n",
        "print(A == 4)"
      ]
    },
    {
      "cell_type": "code",
      "execution_count": null,
      "metadata": {
        "id": "xkv1NmNhJiSM"
      },
      "outputs": [],
      "source": [
        "A = np.array([\n",
        "[12, 13, 14, 12],\n",
        "[11, 14, 12, 15],\n",
        "[10, 12, 12, 15],\n",
        "[ 9, 11, 16, 15]])\n",
        "B = A > 14\n",
        "print(B)\n"
      ]
    },
    {
      "cell_type": "code",
      "execution_count": null,
      "metadata": {
        "id": "01rf9oI7Lfr0"
      },
      "outputs": [],
      "source": [
        "print(B.astype(dtype=int))\n",
        "C = A[B]\n",
        "print(len(C))"
      ]
    },
    {
      "cell_type": "code",
      "execution_count": null,
      "metadata": {
        "id": "D8llA9Tu23ZI"
      },
      "outputs": [],
      "source": [
        "ab = np.array([1,2,3,4])\n",
        "ab[[True,True,False,False]] # Can apply Boolen operators to choose elements\n",
        "ab >= 3\n",
        "ab[ab >= 2]"
      ]
    },
    {
      "cell_type": "code",
      "execution_count": null,
      "metadata": {
        "id": "yT0i0P8N84P_"
      },
      "outputs": [],
      "source": [
        "ab[(ab >=2) & (ab % 2 == 0)]  #and operation"
      ]
    },
    {
      "cell_type": "code",
      "execution_count": null,
      "metadata": {
        "id": "n52TZyhn9NZN"
      },
      "outputs": [],
      "source": [
        "ab[(ab == 1) | (ab == 2)] # If it is satisfying first condition or second condition only"
      ]
    },
    {
      "cell_type": "code",
      "execution_count": null,
      "metadata": {
        "id": "8lCo5tGR9gOY"
      },
      "outputs": [],
      "source": [
        "print(ab.sum())\n",
        "print(ab.mean())"
      ]
    },
    {
      "cell_type": "code",
      "execution_count": null,
      "metadata": {
        "id": "al44PhKqTovZ"
      },
      "outputs": [],
      "source": [
        "print(ab.std())\n",
        "print(ab.var())\n"
      ]
    },
    {
      "cell_type": "code",
      "execution_count": null,
      "metadata": {
        "id": "mWZip8Eo982o"
      },
      "outputs": [],
      "source": [
        "A = np.random.randint(100, size =(3,3))\n",
        "print(A)"
      ]
    },
    {
      "cell_type": "code",
      "execution_count": null,
      "metadata": {
        "id": "8cieoVCJ-LWx"
      },
      "outputs": [],
      "source": [
        "A > 30  # We can use this as a filter. This true false array is called Boolean arrays"
      ]
    },
    {
      "cell_type": "code",
      "execution_count": null,
      "metadata": {
        "id": "Y-Y3Na77-T--"
      },
      "outputs": [],
      "source": [
        "A [A >30]"
      ]
    },
    {
      "cell_type": "markdown",
      "metadata": {
        "id": "oL5ifrjvirfu"
      },
      "source": [
        "### Matrix Operations"
      ]
    },
    {
      "cell_type": "code",
      "execution_count": null,
      "metadata": {
        "id": "ZT-IbGui_KhB"
      },
      "outputs": [],
      "source": [
        "Mat =  np.random.randint(30, size =(3,3))\n",
        "print(Mat)"
      ]
    },
    {
      "cell_type": "code",
      "execution_count": null,
      "metadata": {
        "id": "O-nz856k9fWf"
      },
      "outputs": [],
      "source": [
        "Mat.T # transpose of a matrix"
      ]
    },
    {
      "cell_type": "code",
      "execution_count": null,
      "metadata": {
        "id": "cV67N0pa_YVG"
      },
      "outputs": [],
      "source": [
        "AA = np.random.randint(10, size =(2,2))\n",
        "BB = np.random.randint(20, size =(2,2))\n",
        "print(AA)\n",
        "print(BB)"
      ]
    },
    {
      "cell_type": "code",
      "execution_count": null,
      "metadata": {
        "id": "-LNsvtYD_vDc"
      },
      "outputs": [],
      "source": [
        "AA.dot(BB) # Dot product of a matrix"
      ]
    },
    {
      "cell_type": "markdown",
      "metadata": {
        "id": "54BozBCI-MLo"
      },
      "source": [
        "###Load data from file"
      ]
    },
    {
      "cell_type": "code",
      "execution_count": null,
      "metadata": {
        "id": "59JuP0xGXt-H"
      },
      "outputs": [],
      "source": [
        "import os\n",
        "os.chdir(\"drive/My Drive/Colab Notebooks\")\n"
      ]
    },
    {
      "cell_type": "code",
      "execution_count": null,
      "metadata": {
        "id": "0-g3EsGD45Mk"
      },
      "outputs": [],
      "source": [
        "filedata = np.loadtxt('data.txt', delimiter=',') #delimiter = commas\n",
        "filedata = filedata.astype('int32')\n",
        "print(filedata)"
      ]
    },
    {
      "cell_type": "markdown",
      "metadata": {
        "id": "Oa47I94u_hcI"
      },
      "source": [
        "Boolen masking and indexing data"
      ]
    },
    {
      "cell_type": "code",
      "execution_count": null,
      "metadata": {
        "id": "SkDuiyP4_gZI"
      },
      "outputs": [],
      "source": [
        "filedata >50 # Thus it shows true to the elment which is grater than 50 and others will be false\n",
        "new = filedata[filedata>50] # It will show the numbers which is greater than 50\n",
        "print(new)\n",
        "print(len(new))"
      ]
    },
    {
      "cell_type": "code",
      "execution_count": null,
      "metadata": {
        "id": "gx2P2bUGf5a3"
      },
      "outputs": [],
      "source": [
        "np.any(filedata > 50, axis = 0) # Checking if any of the column is greater than 50. Here we have 18 columns"
      ]
    },
    {
      "cell_type": "code",
      "execution_count": null,
      "metadata": {
        "id": "Qsl1o32ff6NI"
      },
      "outputs": [],
      "source": [
        "np.any(filedata > 50, axis = 1) # Here checking the row"
      ]
    },
    {
      "cell_type": "code",
      "execution_count": null,
      "metadata": {
        "id": "5A9qEUPjglrE"
      },
      "outputs": [],
      "source": [
        "\n",
        "A = filedata[((filedata > 50) & (filedata < 100))]\n",
        "print(A)\n",
        "print(len(A))"
      ]
    },
    {
      "cell_type": "markdown",
      "metadata": {
        "id": "vM8chuxwE-Z2"
      },
      "source": [
        "# Intro to Pandas"
      ]
    },
    {
      "cell_type": "code",
      "execution_count": null,
      "metadata": {
        "id": "TXlJYLSXFIfP"
      },
      "outputs": [],
      "source": [
        "pip install pandas"
      ]
    },
    {
      "cell_type": "code",
      "execution_count": null,
      "metadata": {
        "id": "0KiqAunXXLoz"
      },
      "outputs": [],
      "source": [
        "import pandas as pd"
      ]
    },
    {
      "cell_type": "markdown",
      "metadata": {
        "id": "QBc8fywVMlTV"
      },
      "source": [
        "There are two important data structures of Pandas:\n",
        "\n",
        "\n",
        "*  Series\n",
        "\n",
        "*  DataFrame\n",
        "\n",
        "SERIES\n",
        "\n",
        "\n",
        "> A Series is a one-dimensional  array-like object. It can be any data types such as integers,floats, strings etc. It consists of basically two arrays, one with index and other with the data\n",
        "\n",
        "\n"
      ]
    },
    {
      "cell_type": "markdown",
      "metadata": {
        "id": "U5HVK0ptXXHJ"
      },
      "source": [
        "# Pandas Series"
      ]
    },
    {
      "cell_type": "code",
      "execution_count": null,
      "metadata": {
        "id": "7EGYAhMWFIi7"
      },
      "outputs": [],
      "source": [
        "S = pd.Series([20,35,12,56,40,60]) # Pandas read the elements with indexes"
      ]
    },
    {
      "cell_type": "code",
      "execution_count": null,
      "metadata": {
        "id": "8diyJVfMFIl2"
      },
      "outputs": [],
      "source": [
        "print(S)"
      ]
    },
    {
      "cell_type": "markdown",
      "metadata": {
        "id": "tYrdAyC4NzTK"
      },
      "source": [
        "Here we didn't define an index but we see two columns in our output: (Left one : Index) and the (right one : data). Pandas created a default index starting with 0 going to 5."
      ]
    },
    {
      "cell_type": "code",
      "execution_count": null,
      "metadata": {
        "id": "5l2OROp4FIoW"
      },
      "outputs": [],
      "source": [
        "S.dtype"
      ]
    },
    {
      "cell_type": "code",
      "execution_count": null,
      "metadata": {
        "id": "0KAMHF-VFIq8"
      },
      "outputs": [],
      "source": [
        "print(S.index)\n",
        "print(S.values)"
      ]
    },
    {
      "cell_type": "code",
      "execution_count": null,
      "metadata": {
        "id": "x2Got1L3FItE"
      },
      "outputs": [],
      "source": [
        "print(S[0])\n",
        "print(S[1])"
      ]
    },
    {
      "cell_type": "markdown",
      "metadata": {
        "id": "7nhWZFH4a6AZ"
      },
      "source": [
        "## Indexing"
      ]
    },
    {
      "cell_type": "code",
      "execution_count": null,
      "metadata": {
        "id": "tYwqDjpkFI0o"
      },
      "outputs": [],
      "source": [
        "# In contrast to lists, we can explicitly define the index here in Pandas\n",
        "S.index =[\"Alice\",\"Bob\",\"Charlie\",\"Mary\",\"Carla\",\"Sam\"]\n",
        "print(S)"
      ]
    },
    {
      "cell_type": "markdown",
      "metadata": {
        "id": "qz1Cc1FfR7gA"
      },
      "source": [
        "Different way of creating the series with indexes"
      ]
    },
    {
      "cell_type": "code",
      "execution_count": null,
      "metadata": {
        "id": "wFCC4I1JSN2w"
      },
      "outputs": [],
      "source": [
        "Person = {\"Aswathy\" : 28, \"Anjali\" : 26, \"Sarika\" : 27, \"Usha\" : 55, \"Rajan\": 63}\n",
        "Person_series = pd.Series(Person)\n",
        "print(Person_series)"
      ]
    },
    {
      "cell_type": "code",
      "execution_count": null,
      "metadata": {
        "id": "RK-HWsgDVE38"
      },
      "outputs": [],
      "source": [
        "fruits = ['mangoes', 'oranges', 'cherries', 'grapes']\n",
        "quantities = [20, 33, 52, 10]\n",
        "S = pd.Series(quantities, index=fruits, name = 'Fruits')\n",
        "S"
      ]
    },
    {
      "cell_type": "code",
      "execution_count": null,
      "metadata": {
        "id": "G4UfGaV4aWY6"
      },
      "outputs": [],
      "source": [
        "S['mangoes'] # here we need to put the index in inverted comma"
      ]
    },
    {
      "cell_type": "code",
      "execution_count": null,
      "metadata": {
        "id": "x0_nIi2HaWb6"
      },
      "outputs": [],
      "source": [
        "# Numeric positions can also be used with the iloc attribute\n",
        "S.iloc[0]"
      ]
    },
    {
      "cell_type": "code",
      "execution_count": null,
      "metadata": {
        "id": "07TVO3pid3Q4"
      },
      "outputs": [],
      "source": [
        "S[['mangoes','cherries']] # We can choose how many elements we need from the original series"
      ]
    },
    {
      "cell_type": "code",
      "execution_count": null,
      "metadata": {
        "id": "CR22TDond3UD"
      },
      "outputs": [],
      "source": [
        "S.iloc[[0,2]] # We can define this way also"
      ]
    },
    {
      "cell_type": "code",
      "execution_count": null,
      "metadata": {
        "id": "WK-TeQH-d3Wo"
      },
      "outputs": [],
      "source": [
        "# In Pandas the upper limit is included\n",
        "S['mangoes':'grapes']"
      ]
    },
    {
      "cell_type": "code",
      "execution_count": null,
      "metadata": {
        "id": "vTBvkY-hd3ZO"
      },
      "outputs": [],
      "source": [
        "l = ['a','b','c'] # list case"
      ]
    },
    {
      "cell_type": "code",
      "execution_count": null,
      "metadata": {
        "id": "DTO-ARS8f5-8"
      },
      "outputs": [],
      "source": [
        "l[:2] # upper limit not included"
      ]
    },
    {
      "cell_type": "code",
      "execution_count": null,
      "metadata": {
        "id": "uPyEz0ETf6Bo"
      },
      "outputs": [],
      "source": [
        "# Similarly we can utilize the advantage of Boolean arrays here\n",
        "S>20"
      ]
    },
    {
      "cell_type": "code",
      "execution_count": null,
      "metadata": {
        "id": "aQP6-Dwkf6D6"
      },
      "outputs": [],
      "source": [
        "S*2 # We can do all math operations using this"
      ]
    },
    {
      "cell_type": "code",
      "execution_count": null,
      "metadata": {
        "id": "XD1u5Bexf6Fs"
      },
      "outputs": [],
      "source": [
        "# ~ not\n",
        "# | or\n",
        "# & and   operations we used last section can work here as well."
      ]
    },
    {
      "cell_type": "code",
      "execution_count": null,
      "metadata": {
        "id": "tnMHSF2rigDV"
      },
      "outputs": [],
      "source": [
        "S[(S > 30) & (S < 50)] # Example"
      ]
    },
    {
      "cell_type": "markdown",
      "metadata": {
        "id": "l_J_3m8NjIdg"
      },
      "source": [
        "We can modify the series as well"
      ]
    },
    {
      "cell_type": "code",
      "execution_count": null,
      "metadata": {
        "id": "0-v9JYbJigGU"
      },
      "outputs": [],
      "source": [
        "S['mangoes'] = 31"
      ]
    },
    {
      "cell_type": "code",
      "execution_count": null,
      "metadata": {
        "id": "HcIauxsHigIk"
      },
      "outputs": [],
      "source": [
        "S"
      ]
    },
    {
      "cell_type": "code",
      "execution_count": null,
      "metadata": {
        "id": "7zfcmmScigPB"
      },
      "outputs": [],
      "source": [
        "S[S > 30] = 66\n",
        "S"
      ]
    },
    {
      "cell_type": "markdown",
      "metadata": {
        "id": "pWk07D2EXF1w"
      },
      "source": [
        "## NAN - Missing data"
      ]
    },
    {
      "cell_type": "code",
      "execution_count": null,
      "metadata": {
        "id": "QfiICe7DXd-d"
      },
      "outputs": [],
      "source": [
        "# Example of a Series consists of Months and visitors\n",
        "\n",
        "visitors = {\"January\": 561524,\n",
        "\"February\": 357214,\n",
        "\"March\": 316623,\n",
        "\"April\": 687403,\n",
        "\"May\": 287330,\n",
        "\"July\": 780342,\n",
        "\"September\": 172400,\n",
        "\"October\": 179011,\n",
        "\"November\": 460238,\n",
        "\"December\": 149390}\n",
        "visitor_data = pd.Series(visitors)\n",
        "print(visitor_data)"
      ]
    },
    {
      "cell_type": "code",
      "execution_count": null,
      "metadata": {
        "id": "y3vKesCiXeLR"
      },
      "outputs": [],
      "source": [
        "Months = [\"January\", \"February\", \"June\", \"November\",\"August\", \"April\"]\n",
        "visitor_series = pd.Series(visitors,index=Months)\n",
        "visitor_series"
      ]
    },
    {
      "cell_type": "markdown",
      "metadata": {
        "id": "PhWqkq5LaMTl"
      },
      "source": [
        "We can see, that the months, which are not included in the dictionary, get the value NaN assigned.\n",
        "\n",
        "> NaN stands for \"not a number\". We can check for missing values with the methods isnull and notnull:\n",
        "\n",
        "\n"
      ]
    },
    {
      "cell_type": "code",
      "execution_count": null,
      "metadata": {
        "id": "W7EaT_VwagXt"
      },
      "outputs": [],
      "source": [
        "print(visitor_series.isnull())"
      ]
    },
    {
      "cell_type": "code",
      "execution_count": null,
      "metadata": {
        "id": "fJz1Zdc4agl2"
      },
      "outputs": [],
      "source": [
        "print(visitor_series.notnull())"
      ]
    },
    {
      "cell_type": "markdown",
      "metadata": {
        "id": "tygsbl-GcHqQ"
      },
      "source": [
        "We can filter out missing data with the Series method dropna. Thus we can reproduce the data with\n",
        "non-null data:"
      ]
    },
    {
      "cell_type": "code",
      "execution_count": null,
      "metadata": {
        "id": "5g6ZBglaagzz"
      },
      "outputs": [],
      "source": [
        "print(visitor_series.dropna())"
      ]
    },
    {
      "cell_type": "markdown",
      "metadata": {
        "id": "X8p9SUBjckTb"
      },
      "source": [
        "By using fillna you can give values to null section"
      ]
    },
    {
      "cell_type": "code",
      "execution_count": null,
      "metadata": {
        "id": "eUWP8G1wahA6"
      },
      "outputs": [],
      "source": [
        "print(visitor_series.fillna(0))"
      ]
    },
    {
      "cell_type": "code",
      "execution_count": null,
      "metadata": {
        "id": "bE05PWzsahM4"
      },
      "outputs": [],
      "source": [
        "# If we call fillna with a dict, we can provide the appropriate data.\n",
        "\n",
        "missing_months = {\"June\":59793, \"August\":37888}\n",
        "visitor_series.fillna(missing_months)"
      ]
    },
    {
      "cell_type": "code",
      "execution_count": null,
      "metadata": {
        "id": "zFnhOyGXdWZD"
      },
      "outputs": [],
      "source": [
        "visitor_series = visitor_series.fillna(missing_months).astype(int)\n",
        "print(visitor_series)"
      ]
    },
    {
      "cell_type": "markdown",
      "metadata": {
        "id": "yVfsMmZQiqxe"
      },
      "source": [
        "# Pandas Dataframe\n",
        "\n",
        "DataFrame is basically like a spreadsheet or excel kind of tabular datas.\n",
        "\n",
        "*   DataFrame is basically like a spreadsheet or excel kind of tabular datas.\n",
        "*   A DataFrame has both a row and a column index.\n",
        "*   A DataFrame can be considered as a\n",
        "concatenation of Series, each Series having the same\n",
        "index, i.e. the index of the DataFrame.\n",
        "\n",
        "\n",
        "\n",
        "\n",
        "\n",
        "\n",
        "\n",
        "\n",
        ">\n",
        "\n",
        "\n",
        "\n",
        "\n",
        "\n"
      ]
    },
    {
      "cell_type": "code",
      "execution_count": null,
      "metadata": {
        "id": "uMW8XRH9mLVV"
      },
      "outputs": [],
      "source": [
        "years = range(2010, 2014)\n",
        "shop1 = pd.Series([1200.14, 1250.01, 3005.83, 4000.55], index=years)\n",
        "shop2 = pd.Series([1500.45, 2800.62, 3500.83, 3700.53], index=years)\n",
        "shop3 = pd.Series([4412.12, 5491.16, 2457.19, 2963.10], index=years)\n",
        "pd.concat([shop1, shop2, shop3])"
      ]
    },
    {
      "cell_type": "markdown",
      "metadata": {
        "id": "YtKRaotJnY-3"
      },
      "source": [
        "Here the concat work for axis =0 (default).  Let's try with \"axis=1\":"
      ]
    },
    {
      "cell_type": "code",
      "execution_count": null,
      "metadata": {
        "id": "lPqC7rxWmNBj"
      },
      "outputs": [],
      "source": [
        "shops_df = pd.concat([shop1, shop2, shop3],axis =1)\n",
        "shops_df"
      ]
    },
    {
      "cell_type": "code",
      "execution_count": null,
      "metadata": {
        "id": "Xgq2iXi_mNmP"
      },
      "outputs": [],
      "source": [
        "cities = [\"Paris\", \"Stuttgart\", \"Karlsruher\"]\n",
        "shops_df.columns = cities\n",
        "print(shops_df)"
      ]
    },
    {
      "cell_type": "code",
      "execution_count": null,
      "metadata": {
        "id": "TZDY9-k2mOYt"
      },
      "outputs": [],
      "source": [
        "# alternative way: give names to series:\n",
        "shop1.name = \"Paris\"\n",
        "shop2.name = \"Stuttgart\"\n",
        "shop3.name = \"Karlsruher\"\n",
        "shops_df2 = pd.concat([shop1, shop2, shop3], axis=1)\n",
        "print(shops_df2)"
      ]
    },
    {
      "cell_type": "code",
      "execution_count": null,
      "metadata": {
        "id": "Gsvtmaz4mPWE"
      },
      "outputs": [],
      "source": [
        "print(type(shops_df))"
      ]
    },
    {
      "cell_type": "markdown",
      "metadata": {
        "id": "R_5Yvymoq6jd"
      },
      "source": [
        "This means, we can arrange or concat Series into DataFrames!"
      ]
    },
    {
      "cell_type": "markdown",
      "metadata": {
        "id": "McFOm_BHq_s5"
      },
      "source": [
        "Create Dataframes from dictionary"
      ]
    },
    {
      "cell_type": "code",
      "source": [
        "places = {\n",
        "\n",
        "    'Population': [35.467, 63.951, 80.94 , 60.665, 127.061, 64.511, 318.523],\n",
        "     'Surface Area': [9984670,640679,357114,301336,377930,242495,9525067],\n",
        "    'Continent': ['America','Europe','Europe','Europe','Asia','Europe','America']\n",
        "\n",
        "     }"
      ],
      "metadata": {
        "id": "2t6AMgGfIkjI"
      },
      "execution_count": null,
      "outputs": []
    },
    {
      "cell_type": "code",
      "execution_count": null,
      "metadata": {
        "id": "BosVyTnumRV2"
      },
      "outputs": [],
      "source": [
        "places_frame = pd.DataFrame(places)\n",
        "places_frame"
      ]
    },
    {
      "cell_type": "code",
      "execution_count": null,
      "metadata": {
        "id": "EN1LuTldmSTi"
      },
      "outputs": [],
      "source": [
        "places_frame.columns.values"
      ]
    },
    {
      "cell_type": "code",
      "execution_count": null,
      "metadata": {
        "id": "U5Km0mO2r37r"
      },
      "outputs": [],
      "source": [
        "# Give prefereed index\n",
        "\n",
        "Country = ['Canada','France','Germany','Italy','Japan','United Kingdom','United States']\n",
        "places_frame = pd.DataFrame(places, index=Country)\n",
        "places_frame"
      ]
    },
    {
      "cell_type": "code",
      "source": [
        "# Give prefereed index (another way)\n",
        "places_frame.index = ['Canada','France','Germany','Italy','Japan','United Kingdom','United States']\n",
        "places_frame"
      ],
      "metadata": {
        "id": "hfrGI_AeKdE7"
      },
      "execution_count": null,
      "outputs": []
    },
    {
      "cell_type": "code",
      "execution_count": null,
      "metadata": {
        "id": "PX8gSI-Br4Hj"
      },
      "outputs": [],
      "source": [
        "# rearrange the order of columns\n",
        "places_frame = pd.DataFrame(places, columns=[\"Continent\",\"Population\",\"Surface Area\"])\n",
        "places_frame"
      ]
    },
    {
      "cell_type": "code",
      "execution_count": null,
      "metadata": {
        "id": "DMsRhhujr4TM"
      },
      "outputs": [],
      "source": [
        "# rearrange the order of index\n",
        "places_frame.reindex(index=[0, 2, 4, 6, 1, 3, 5])"
      ]
    },
    {
      "cell_type": "code",
      "execution_count": null,
      "metadata": {
        "id": "X5DQEbEM3frU"
      },
      "outputs": [],
      "source": [
        "places_frame.rename(columns={\"Continent\":\"Contint\",\"Population\":\"Pop\",\"Surface Area\": \"S.A\"}, inplace = True)\n",
        "places_frame"
      ]
    },
    {
      "cell_type": "markdown",
      "metadata": {
        "id": "n12f-eQGlLPL"
      },
      "source": [
        "# Working with actual data"
      ]
    },
    {
      "cell_type": "code",
      "execution_count": null,
      "metadata": {
        "id": "_a_widjukhWp"
      },
      "outputs": [],
      "source": [
        "# df means dataframe like CSV files\n",
        "# you can drop some datas using indexes. Such as df.drop('Canada')\n",
        "# df.drop(['Canada,'Japan'])"
      ]
    },
    {
      "cell_type": "code",
      "execution_count": null,
      "metadata": {
        "id": "E8I7T4iWvSmD"
      },
      "outputs": [],
      "source": [
        "from google.colab import drive\n",
        "drive.mount('/content/drive')"
      ]
    },
    {
      "cell_type": "code",
      "execution_count": null,
      "metadata": {
        "id": "8IIKaMWaxj2B"
      },
      "outputs": [],
      "source": [
        "import os\n",
        "os.chdir('/content/drive/My Drive/Colab Notebooks/Data')"
      ]
    },
    {
      "cell_type": "code",
      "execution_count": null,
      "metadata": {
        "id": "urVqv9hjkhZp"
      },
      "outputs": [],
      "source": [
        "df = pd.read_csv('shopping_trends_updated.csv') # to read a CSV file"
      ]
    },
    {
      "cell_type": "code",
      "execution_count": null,
      "metadata": {
        "id": "xHWrcLIOzOpX"
      },
      "outputs": [],
      "source": [
        "print(df)"
      ]
    },
    {
      "cell_type": "markdown",
      "metadata": {
        "id": "fY5OMYAbUEO4"
      },
      "source": [
        "While pandas read the CSV files, the first row is considered as the headline. If you have aCSV file, which doesn't have a headline, you can give, header = None"
      ]
    },
    {
      "cell_type": "code",
      "execution_count": null,
      "metadata": {
        "colab": {
          "background_save": true
        },
        "id": "qusgZ2PYkhca"
      },
      "outputs": [],
      "source": [
        "df.head() # to get first few rows"
      ]
    },
    {
      "cell_type": "code",
      "execution_count": null,
      "metadata": {
        "id": "7WVR1Ydozuiq"
      },
      "outputs": [],
      "source": [
        "df.head(10) # To specify number of rows needed from top"
      ]
    },
    {
      "cell_type": "code",
      "execution_count": null,
      "metadata": {
        "id": "7MWze_BEz039"
      },
      "outputs": [],
      "source": [
        "df.tail() # to get last few rows"
      ]
    },
    {
      "cell_type": "code",
      "execution_count": null,
      "metadata": {
        "id": "FdmRscwdz79W"
      },
      "outputs": [],
      "source": [
        "df.tail(3) # To specify number of rows from bottom needed"
      ]
    },
    {
      "cell_type": "code",
      "execution_count": null,
      "metadata": {
        "id": "jlYMZRErkhhW"
      },
      "outputs": [],
      "source": [
        "df.shape # (row, column)"
      ]
    },
    {
      "cell_type": "code",
      "execution_count": null,
      "metadata": {
        "id": "zTlAe-YAkhj9"
      },
      "outputs": [],
      "source": [
        "df.info # To get the informatiom of the data"
      ]
    },
    {
      "cell_type": "code",
      "execution_count": null,
      "metadata": {
        "id": "S1fUUASWkhua"
      },
      "outputs": [],
      "source": [
        "df.dtypes  # Will get the data types"
      ]
    },
    {
      "cell_type": "code",
      "source": [
        "df.dtypes.value_counts()"
      ],
      "metadata": {
        "id": "L4NenYjI89np"
      },
      "execution_count": null,
      "outputs": []
    },
    {
      "cell_type": "code",
      "execution_count": null,
      "metadata": {
        "id": "9R0MXYndS-4X"
      },
      "outputs": [],
      "source": [
        "df.describe() # Summary of the statistics of the dataframe (only the numerical types would be shown)"
      ]
    },
    {
      "cell_type": "code",
      "execution_count": null,
      "metadata": {
        "id": "IWAEYU0vVzN5"
      },
      "outputs": [],
      "source": [
        "df.columns.values"
      ]
    },
    {
      "cell_type": "code",
      "execution_count": null,
      "metadata": {
        "id": "RgSzz-nCLrpw"
      },
      "outputs": [],
      "source": [
        "df2 = df.rename(index = {0:'Alice',1:'Bob',2:'Mary'})\n",
        "print(df2)"
      ]
    },
    {
      "cell_type": "code",
      "execution_count": null,
      "metadata": {
        "id": "udWlbX2bM4mo"
      },
      "outputs": [],
      "source": [
        "df2.loc['Alice'] # to get a particular row using loc function (Give element via index)  arranged in Series way"
      ]
    },
    {
      "cell_type": "code",
      "execution_count": null,
      "metadata": {
        "id": "xa3BhkbhNbsq"
      },
      "outputs": [],
      "source": [
        "df2.iloc[0] # via sequential positions # Result came as a series form, transpose, In series way"
      ]
    },
    {
      "cell_type": "code",
      "execution_count": null,
      "metadata": {
        "id": "rsLlRhGbWdCG"
      },
      "outputs": [],
      "source": [
        "print(df['Gender']) # To access the columns\n",
        "print(df.Gender) # another way"
      ]
    },
    {
      "cell_type": "code",
      "execution_count": null,
      "metadata": {
        "id": "qbYso-M7WdFJ"
      },
      "outputs": [],
      "source": [
        "df.loc[0: 10] # Upper limit is included. But in python range and all, the upper limit is excluded."
      ]
    },
    {
      "cell_type": "code",
      "execution_count": null,
      "metadata": {
        "id": "ym6Gzs3TNubr"
      },
      "outputs": [],
      "source": [
        "df.iloc[0:5] # Upper limit not included"
      ]
    },
    {
      "cell_type": "code",
      "execution_count": null,
      "metadata": {
        "id": "VZtYJL_zWdJ6"
      },
      "outputs": [],
      "source": [
        "df.loc[0:5,'Age'] # Accessing particular column using the index"
      ]
    },
    {
      "cell_type": "code",
      "execution_count": null,
      "metadata": {
        "id": "Najqbl5GWdNv"
      },
      "outputs": [],
      "source": [
        "df.loc[0:5,['Age','Gender']] # Accessing multiple columns"
      ]
    },
    {
      "cell_type": "code",
      "execution_count": null,
      "metadata": {
        "id": "0jMBdJQ04gHj"
      },
      "outputs": [],
      "source": [
        "# another way\n",
        "print(df['Item Purchased'][0:5])"
      ]
    },
    {
      "cell_type": "code",
      "execution_count": null,
      "metadata": {
        "id": "InXBfDo6iA6k"
      },
      "outputs": [],
      "source": [
        "# To access the column using the index value of column.\n",
        "#Here the column is the 6th one. because it starts from 0,1,2,3,4,5\n",
        "df.iloc[0:10,5]"
      ]
    },
    {
      "cell_type": "code",
      "execution_count": null,
      "metadata": {
        "id": "WFGHBHNdQo8S"
      },
      "outputs": [],
      "source": [
        "df.iloc[0:10,0:5]  # Accessing multiple columns"
      ]
    },
    {
      "cell_type": "markdown",
      "metadata": {
        "id": "Sifb4M76ig18"
      },
      "source": [
        "## Conditional selection ( boolean arrays)"
      ]
    },
    {
      "cell_type": "code",
      "execution_count": null,
      "metadata": {
        "id": "GIvgEOiGiA-l"
      },
      "outputs": [],
      "source": [
        "#df['Age'] >30\n",
        "df.Age >30  # Another way"
      ]
    },
    {
      "cell_type": "code",
      "execution_count": null,
      "metadata": {
        "id": "ENfeOlp4iBBv"
      },
      "outputs": [],
      "source": [
        "df3 = df.loc[df.Age >=69]  # How many people will have age greater tan or equal to 69\n"
      ]
    },
    {
      "cell_type": "code",
      "execution_count": null,
      "metadata": {
        "id": "oc4iIdcuRrEp"
      },
      "outputs": [],
      "source": [
        "df4 = df.loc[df.Gender == 'Male']  # How many male customers\n",
        "print(df4)"
      ]
    },
    {
      "cell_type": "code",
      "source": [
        "df5 = df.loc[df.Gender == 'Female']  # How many Female customers\n",
        "print(df5)"
      ],
      "metadata": {
        "id": "lxOKTI07Sd4s"
      },
      "execution_count": null,
      "outputs": []
    },
    {
      "cell_type": "code",
      "source": [
        "df7 = df.loc[(df.Category == 'Footwear') & (df.Gender == 'Male') ]  # Multiple conditions\n",
        "print(df7)"
      ],
      "metadata": {
        "id": "N_Dpss0RtcSO"
      },
      "execution_count": null,
      "outputs": []
    },
    {
      "cell_type": "code",
      "source": [],
      "metadata": {
        "id": "EPLfhQ4KV8cP"
      },
      "execution_count": null,
      "outputs": []
    },
    {
      "cell_type": "markdown",
      "metadata": {
        "id": "rilcDiXWEFo1"
      },
      "source": [
        "## Making changes to dataframes"
      ]
    },
    {
      "cell_type": "markdown",
      "source": [
        "Sorting datas"
      ],
      "metadata": {
        "id": "dFPPV2QpvoT_"
      }
    },
    {
      "cell_type": "code",
      "source": [
        "df8 = df.sort_values(by=\"Age\", ascending=True) # Sorting  data based on ascending order of age\n",
        "#print(df8)\n",
        "df9 = df.sort_values(by=\"Age\", ascending=False) # Sorting  data based on ascending order of age\n",
        "print(df9)"
      ],
      "metadata": {
        "id": "YDAfzsJwvs37"
      },
      "execution_count": null,
      "outputs": []
    },
    {
      "cell_type": "code",
      "source": [
        "ddf = df.sort_values(['Item Purchased', 'Category'], ascending=(True, True)) # Multiple condition\n",
        "print(ddf)"
      ],
      "metadata": {
        "id": "dOCRi_WEw--i"
      },
      "execution_count": null,
      "outputs": []
    },
    {
      "cell_type": "code",
      "execution_count": null,
      "metadata": {
        "id": "vdBCCcItiBE0"
      },
      "outputs": [],
      "source": [
        "# if you want to drop some rows from the dataframe\n",
        "df.drop(2)\n",
        "df.drop([2,5]) # dropping multiple rows based on index\n"
      ]
    },
    {
      "cell_type": "code",
      "execution_count": null,
      "metadata": {
        "id": "yUD5ivOwkt1-"
      },
      "outputs": [],
      "source": [
        "# dropping columns\n",
        "df.drop(columns=['Age','Gender'])"
      ]
    },
    {
      "cell_type": "code",
      "execution_count": null,
      "metadata": {
        "id": "LPawnGi4kt-V"
      },
      "outputs": [],
      "source": [
        "#Lets create a new series\n",
        "NewSeries = pd.Series([10,100,5], index = ['Age','Previous Purchases','Purchase Amount (USD)'])\n",
        "NewSeries"
      ]
    },
    {
      "cell_type": "code",
      "execution_count": null,
      "metadata": {
        "id": "6QV4jY1dmpnV"
      },
      "outputs": [],
      "source": [
        "df[['Age','Previous Purchases','Purchase Amount (USD)']]"
      ]
    },
    {
      "cell_type": "code",
      "execution_count": null,
      "metadata": {
        "id": "CEi2wxOam2vU"
      },
      "outputs": [],
      "source": [
        "# changing the value of Age and Previous purchases by adding New series to it.\n",
        "#For that we need to cretae a series with same indexes\n",
        "df[['Age','Previous Purchases','Purchase Amount (USD)']] + NewSeries\n"
      ]
    },
    {
      "cell_type": "markdown",
      "source": [
        "##Modifying data frame\n"
      ],
      "metadata": {
        "id": "W0CKzwiXWSJO"
      }
    },
    {
      "cell_type": "code",
      "execution_count": null,
      "metadata": {
        "id": "IVvAxE2SAGdj"
      },
      "outputs": [],
      "source": [
        "# adding new column\n",
        "Shoppingday = pd.Series(['Sunday','Monday','Saturday'], index = [0,1,2])"
      ]
    },
    {
      "cell_type": "code",
      "execution_count": null,
      "metadata": {
        "id": "h3AE-VGnAGgO"
      },
      "outputs": [],
      "source": [
        "df = df.drop(columns=['ShoppingDay'])"
      ]
    },
    {
      "cell_type": "code",
      "execution_count": null,
      "metadata": {
        "id": "FVdEvuJ-AGlL"
      },
      "outputs": [],
      "source": [
        "# Replacing values per column\n",
        "df['Shopping Day'] = 'Monday'"
      ]
    },
    {
      "cell_type": "code",
      "execution_count": null,
      "metadata": {
        "id": "T4LKF2YvAGnQ"
      },
      "outputs": [],
      "source": [
        "df"
      ]
    },
    {
      "cell_type": "code",
      "execution_count": null,
      "metadata": {
        "id": "I-aQ3dSUEaiE"
      },
      "outputs": [],
      "source": [
        "# Renaming Columns and Indexes\n",
        "df.rename(columns = {'Item Purchased': 'ItPur' }, index = {2 : 'Aswathy'})"
      ]
    },
    {
      "cell_type": "code",
      "execution_count": null,
      "metadata": {
        "id": "cfmrFzo0EalO"
      },
      "outputs": [],
      "source": [
        "# Creating columns from other columns\n",
        "df['Total expense so far'] = df['Previous Purchases'] * df['Purchase Amount (USD)']\n",
        "df"
      ]
    },
    {
      "cell_type": "markdown",
      "metadata": {
        "id": "NI-O5bijH-qo"
      },
      "source": [
        "## Statistical info"
      ]
    },
    {
      "cell_type": "code",
      "execution_count": null,
      "metadata": {
        "id": "najiwjJ7Ean4"
      },
      "outputs": [],
      "source": [
        "df.head()"
      ]
    },
    {
      "cell_type": "code",
      "execution_count": null,
      "metadata": {
        "id": "zkV57UY2EaqQ"
      },
      "outputs": [],
      "source": [
        "df.describe()"
      ]
    },
    {
      "cell_type": "code",
      "execution_count": null,
      "metadata": {
        "id": "hPaZ-7_IEas3"
      },
      "outputs": [],
      "source": [
        "PurchaseAmt = df['Purchase Amount (USD)']\n",
        "Age = df['Age']"
      ]
    },
    {
      "cell_type": "code",
      "execution_count": null,
      "metadata": {
        "id": "YbSx-S9eEavj"
      },
      "outputs": [],
      "source": [
        "PurchaseAmt.min(), PurchaseAmt.max()"
      ]
    },
    {
      "cell_type": "code",
      "execution_count": null,
      "metadata": {
        "id": "csY38QFxEayH"
      },
      "outputs": [],
      "source": [
        "Age.min(), Age.max()"
      ]
    },
    {
      "cell_type": "code",
      "execution_count": null,
      "metadata": {
        "id": "yOMyca0bEa0p"
      },
      "outputs": [],
      "source": [
        "Age.sum()"
      ]
    },
    {
      "cell_type": "code",
      "execution_count": null,
      "metadata": {
        "id": "4ACZTAQJEa27"
      },
      "outputs": [],
      "source": [
        "Age.mean()"
      ]
    },
    {
      "cell_type": "code",
      "execution_count": null,
      "metadata": {
        "id": "br_XRijzIznc"
      },
      "outputs": [],
      "source": [
        "Age.std()"
      ]
    },
    {
      "cell_type": "code",
      "execution_count": null,
      "metadata": {
        "id": "uvdYgePZIzqb"
      },
      "outputs": [],
      "source": [
        "Age.describe()"
      ]
    },
    {
      "cell_type": "markdown",
      "source": [
        "## Saving our Data (Exporting into Desired Format)"
      ],
      "metadata": {
        "id": "rKBaQ8pHa9cN"
      }
    },
    {
      "cell_type": "code",
      "source": [
        "df.to_csv('modified_shopping.csv')\n",
        "#df.to_excel('modified.xlsx', index=False)"
      ],
      "metadata": {
        "id": "tmt8REzjYyBO"
      },
      "execution_count": null,
      "outputs": []
    },
    {
      "cell_type": "code",
      "source": [],
      "metadata": {
        "id": "aUclOPrabft_"
      },
      "execution_count": null,
      "outputs": []
    }
  ],
  "metadata": {
    "colab": {
      "toc_visible": true,
      "provenance": [],
      "include_colab_link": true
    },
    "kernelspec": {
      "display_name": "Python 3",
      "name": "python3"
    },
    "language_info": {
      "name": "python"
    }
  },
  "nbformat": 4,
  "nbformat_minor": 0
}